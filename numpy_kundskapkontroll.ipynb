{
 "cells": [
  {
   "cell_type": "markdown",
   "metadata": {},
   "source": [
    "#NUMPY"
   ]
  },
  {
   "cell_type": "code",
   "execution_count": 1,
   "metadata": {},
   "outputs": [],
   "source": [
    "import numpy as np"
   ]
  },
  {
   "cell_type": "markdown",
   "metadata": {},
   "source": [
    "### Print out the dimension (number of axes), shape, size and the datatype of the matrix A."
   ]
  },
  {
   "cell_type": "code",
   "execution_count": 2,
   "metadata": {},
   "outputs": [],
   "source": [
    "A = np.arange(1, 16).reshape(3,5)"
   ]
  },
  {
   "cell_type": "markdown",
   "metadata": {},
   "source": [
    "# answer 1"
   ]
  },
  {
   "cell_type": "code",
   "execution_count": 3,
   "metadata": {},
   "outputs": [
    {
     "name": "stdout",
     "output_type": "stream",
     "text": [
      "Matrix B:\n",
      "[[1 2 3]\n",
      " [4 5 6]\n",
      " [7 8 9]]\n",
      "\n",
      "Matrix C:\n",
      "Elementwise Multiplication (B * C):\n",
      "[[ 2.  4.  6.]\n",
      " [ 8. 10. 12.]\n",
      " [14. 16. 18.]]\n",
      "\n",
      "Matrix Multiplication (B @ C):\n",
      "[[12. 12. 12.]\n",
      " [30. 30. 30.]\n",
      " [48. 48. 48.]]\n",
      "[[2. 2. 2.]\n",
      " [2. 2. 2.]\n",
      " [2. 2. 2.]]\n",
      "\n",
      "Elementwise Subtraction (B - C):\n",
      "[[-1.  0.  1.]\n",
      " [ 2.  3.  4.]\n",
      " [ 5.  6.  7.]]\n",
      "\n"
     ]
    }
   ],
   "source": [
    "# Define matrices B and C\n",
    "B = np.arange(1, 10).reshape(3, 3)\n",
    "C = np.ones((3, 3)) * 2\n",
    "\n",
    "# Print matrices B and C\n",
    "print(\"Matrix B:\")\n",
    "print(B)\n",
    "print()\n",
    "\n",
    "print(\"Matrix C:\")\n",
    "\n",
    "# Elementwise multiplication\n",
    "elementwise_multiplication = B * C\n",
    "print(\"Elementwise Multiplication (B * C):\")\n",
    "print(elementwise_multiplication)\n",
    "print()\n",
    "\n",
    "# Matrix multiplication using @ operator\n",
    "matrix_multiplication = B @ C\n",
    "print(\"Matrix Multiplication (B @ C):\")\n",
    "print(matrix_multiplication)\n",
    "print(C)\n",
    "print()\n",
    "\n",
    "# Elementwise subtraction\n",
    "elementwise_subtraction = B - C\n",
    "print(\"Elementwise Subtraction (B - C):\")\n",
    "print(elementwise_subtraction)\n",
    "print()"
   ]
  },
  {
   "cell_type": "markdown",
   "metadata": {},
   "source": [
    "### Do the following computations on the matrices B and C: \n",
    "* Elementwise subtraction. \n",
    "* Elementwise multiplication. \n",
    "* Matrix multiplication (by default you should use the @ operator)."
   ]
  },
  {
   "cell_type": "code",
   "execution_count": 4,
   "metadata": {},
   "outputs": [
    {
     "name": "stdout",
     "output_type": "stream",
     "text": [
      "[[1 2 3]\n",
      " [4 5 6]\n",
      " [7 8 9]]\n",
      "\n",
      "[[2. 2. 2.]\n",
      " [2. 2. 2.]\n",
      " [2. 2. 2.]]\n"
     ]
    }
   ],
   "source": [
    "B = np.arange(1, 10).reshape(3, 3)\n",
    "C = np.ones((3, 3))*2\n",
    "\n",
    "print(B)\n",
    "print()\n",
    "print(C)"
   ]
  },
  {
   "cell_type": "markdown",
   "metadata": {},
   "source": [
    "# Answer2"
   ]
  },
  {
   "cell_type": "code",
   "execution_count": 5,
   "metadata": {},
   "outputs": [
    {
     "name": "stdout",
     "output_type": "stream",
     "text": [
      "Matrix B:\n",
      "[[1 2 3]\n",
      " [4 5 6]\n",
      " [7 8 9]]\n",
      "\n",
      "Exponentiate each element in B (np.exp):\n",
      "[[2.71828183e+00 7.38905610e+00 2.00855369e+01]\n",
      " [5.45981500e+01 1.48413159e+02 4.03428793e+02]\n",
      " [1.09663316e+03 2.98095799e+03 8.10308393e+03]]\n",
      "\n",
      "Minimum value in the whole matrix:\n",
      "1\n",
      "\n",
      "Minimum value in each row:\n",
      "[1 4 7]\n",
      "\n",
      "Minimum value in each column:\n",
      "[1 2 3]\n",
      "\n",
      "Index of the minimum value in the whole matrix:\n",
      "0\n",
      "\n",
      "Index of the minimum value in each row:\n",
      "[0 0 0]\n",
      "\n",
      "Sum of all elements in B:\n",
      "45\n",
      "\n",
      "Mean of each column:\n",
      "[4. 5. 6.]\n",
      "\n",
      "Median of each column:\n",
      "[4. 5. 6.]\n",
      "\n"
     ]
    }
   ],
   "source": [
    "\n",
    "# Create matrix B\n",
    "B = np.arange(1, 10).reshape(3, 3)\n",
    "\n",
    "# Print the matrix B\n",
    "print(\"Matrix B:\")\n",
    "print(B)\n",
    "print()\n",
    "\n",
    "# 1. Exponentiate each number elementwise (np.exp)\n",
    "exp_B = np.exp(B)\n",
    "print(\"Exponentiate each element in B (np.exp):\")\n",
    "print(exp_B)\n",
    "print()\n",
    "\n",
    "# 2. Calculate the minimum value in the whole matrix\n",
    "min_value = np.min(B)\n",
    "print(\"Minimum value in the whole matrix:\")\n",
    "print(min_value)\n",
    "print()\n",
    "\n",
    "# 3. Calculate the minimum value in each row\n",
    "min_row_values = np.min(B, axis=1)\n",
    "print(\"Minimum value in each row:\")\n",
    "print(min_row_values)\n",
    "print()\n",
    "\n",
    "# 4. Calculate the minimum value in each column\n",
    "min_col_values = np.min(B, axis=0)\n",
    "print(\"Minimum value in each column:\")\n",
    "print(min_col_values)\n",
    "print()\n",
    "\n",
    "# 5. Find the index of the minimum value in the whole matrix (np.argmin)\n",
    "min_index = np.argmin(B)\n",
    "print(\"Index of the minimum value in the whole matrix:\")\n",
    "print(min_index)\n",
    "print()\n",
    "\n",
    "# 6. Find the index of the minimum value in each row (np.argmin)\n",
    "min_row_indices = np.argmin(B, axis=1)\n",
    "print(\"Index of the minimum value in each row:\")\n",
    "print(min_row_indices)\n",
    "print()\n",
    "\n",
    "# 7. Calculate the sum for all elements\n",
    "sum_elements = np.sum(B)\n",
    "print(\"Sum of all elements in B:\")\n",
    "print(sum_elements)\n",
    "print()\n",
    "\n",
    "# 8. Calculate the mean for each column\n",
    "mean_col = np.mean(B, axis=0)\n",
    "print(\"Mean of each column:\")\n",
    "print(mean_col)\n",
    "print()\n",
    "\n",
    "# 9. Calculate the median for each column\n",
    "median_col = np.median(B, axis=0)\n",
    "print(\"Median of each column:\")\n",
    "print(median_col)\n",
    "print()"
   ]
  },
  {
   "cell_type": "markdown",
   "metadata": {},
   "source": [
    "### Do the following calculations on the matrix:\n",
    "* Exponentiate each number elementwise (use the np.exp function).\n",
    "\n",
    "* Calculate the minimum value in the whole matrix. \n",
    "* Calculcate the minimum value in each row. \n",
    "* Calculcate the minimum value in each column. \n",
    "\n",
    "\n",
    "* Find the index value for the minimum value in the whole matrix (hint: use np.argmin).\n",
    "* Find the index value for the minimum value in each row (hint: use np.argmin).\n",
    "\n",
    "\n",
    "* Calculate the sum for all elements.\n",
    "* Calculate the mean for each column. \n",
    "* Calculate the median for each column."
   ]
  },
  {
   "cell_type": "code",
   "execution_count": 6,
   "metadata": {},
   "outputs": [
    {
     "name": "stdout",
     "output_type": "stream",
     "text": [
      "[[1 2 3]\n",
      " [4 5 6]\n",
      " [7 8 9]]\n"
     ]
    }
   ],
   "source": [
    "B = np.arange(1, 10).reshape(3, 3)\n",
    "print(B)"
   ]
  },
  {
   "cell_type": "markdown",
   "metadata": {},
   "source": [
    "# Answer3"
   ]
  },
  {
   "cell_type": "code",
   "execution_count": 7,
   "metadata": {},
   "outputs": [
    {
     "name": "stdout",
     "output_type": "stream",
     "text": [
      "Matrix A:\n",
      "[[ 1  2  3  4  5]\n",
      " [ 6  7  8  9 10]\n",
      " [11 12 13 14 15]]\n",
      "\n",
      "A[1]:\n",
      "[ 6  7  8  9 10]\n"
     ]
    }
   ],
   "source": [
    "# Create a 2D array A\n",
    "A = np.arange(1, 16).reshape(3, 5)\n",
    "\n",
    "# Print the entire matrix A\n",
    "print(\"Matrix A:\")\n",
    "print(A)\n",
    "print()\n",
    "\n",
    "# Slice using fewer indices, A[1]\n",
    "print(\"A[1]:\")\n",
    "print(A[1])"
   ]
  },
  {
   "cell_type": "markdown",
   "metadata": {},
   "source": [
    "### What does it mean when you provide fewer indices than axes when slicing? See example below."
   ]
  },
  {
   "cell_type": "code",
   "execution_count": 8,
   "metadata": {},
   "outputs": [
    {
     "name": "stdout",
     "output_type": "stream",
     "text": [
      "[[ 1  2  3  4  5]\n",
      " [ 6  7  8  9 10]\n",
      " [11 12 13 14 15]]\n"
     ]
    }
   ],
   "source": [
    "print(A)"
   ]
  },
  {
   "cell_type": "code",
   "execution_count": 9,
   "metadata": {},
   "outputs": [
    {
     "data": {
      "text/plain": [
       "array([ 6,  7,  8,  9, 10])"
      ]
     },
     "execution_count": 9,
     "metadata": {},
     "output_type": "execute_result"
    }
   ],
   "source": [
    "A[1]"
   ]
  },
  {
   "cell_type": "markdown",
   "metadata": {},
   "source": [
    "# ANSWER4"
   ]
  },
  {
   "cell_type": "code",
   "execution_count": 10,
   "metadata": {},
   "outputs": [
    {
     "name": "stdout",
     "output_type": "stream",
     "text": [
      "[1 2 3]\n",
      "[4 5 6]\n",
      "[7 8 9]\n",
      "1\n",
      "2\n",
      "3\n",
      "4\n",
      "5\n",
      "6\n",
      "7\n",
      "8\n",
      "9\n"
     ]
    }
   ],
   "source": [
    "\n",
    "# Create a 2D array A\n",
    "A = np.arange(1, 10).reshape(3, 3)\n",
    "\n",
    "# Iterating over the rows of A\n",
    "for i in A:\n",
    "    print(i)\n",
    "\n",
    "\n",
    "# Iterating over each element in A\n",
    "for i in np.nditer(A):\n",
    "    print(i)"
   ]
  },
  {
   "cell_type": "markdown",
   "metadata": {},
   "source": [
    "### Iterating over multidimensional arrays is done with respect to the first axis, so in the example below we iterate trough the rows. If you would like to iterate through the array *elementwise*, how would you do that?"
   ]
  },
  {
   "cell_type": "code",
   "execution_count": 11,
   "metadata": {},
   "outputs": [
    {
     "data": {
      "text/plain": [
       "array([[1, 2, 3],\n",
       "       [4, 5, 6],\n",
       "       [7, 8, 9]])"
      ]
     },
     "execution_count": 11,
     "metadata": {},
     "output_type": "execute_result"
    }
   ],
   "source": [
    "A"
   ]
  },
  {
   "cell_type": "code",
   "execution_count": 12,
   "metadata": {},
   "outputs": [
    {
     "name": "stdout",
     "output_type": "stream",
     "text": [
      "[1 2 3]\n",
      "[4 5 6]\n",
      "[7 8 9]\n"
     ]
    }
   ],
   "source": [
    "for i in A:\n",
    "    print(i)"
   ]
  },
  {
   "cell_type": "markdown",
   "metadata": {},
   "source": [
    "# Answer5"
   ]
  },
  {
   "cell_type": "code",
   "execution_count": 13,
   "metadata": {},
   "outputs": [
    {
     "name": "stdout",
     "output_type": "stream",
     "text": [
      "[1 2 3]\n",
      "[4 5 6]\n",
      "[7 8 9]\n"
     ]
    }
   ],
   "source": [
    "# Iterating over the rows of A\n",
    "for i in A:\n",
    "    print(i)\n"
   ]
  },
  {
   "cell_type": "markdown",
   "metadata": {},
   "source": [
    "### Explain what the code below does. More specifically, b has three axes - what does this mean? "
   ]
  },
  {
   "cell_type": "code",
   "execution_count": 14,
   "metadata": {},
   "outputs": [
    {
     "name": "stdout",
     "output_type": "stream",
     "text": [
      "[ 0  1  2  3  4  5  6  7  8  9 10 11 12 13 14 15 16 17 18 19 20 21 22 23\n",
      " 24 25 26 27 28 29]\n",
      "\n",
      "[[[ 0  1  2  3  4]\n",
      "  [ 5  6  7  8  9]\n",
      "  [10 11 12 13 14]]\n",
      "\n",
      " [[15 16 17 18 19]\n",
      "  [20 21 22 23 24]\n",
      "  [25 26 27 28 29]]]\n"
     ]
    }
   ],
   "source": [
    "a = np.arange(30)\n",
    "b = a.reshape((2, 3, -1))\n",
    "print(a)\n",
    "print()\n",
    "\n",
    "print(b)"
   ]
  },
  {
   "cell_type": "markdown",
   "metadata": {},
   "source": [
    "# Answer6"
   ]
  },
  {
   "cell_type": "code",
   "execution_count": 15,
   "metadata": {},
   "outputs": [
    {
     "name": "stdout",
     "output_type": "stream",
     "text": [
      "Array a:\n",
      "[ 0  1  2  3  4  5  6  7  8  9 10 11 12 13 14 15 16 17 18 19 20 21 22 23\n",
      " 24 25 26 27 28 29]\n",
      "\n",
      "Array b (reshaped):\n",
      "[[[ 0  1  2  3  4]\n",
      "  [ 5  6  7  8  9]\n",
      "  [10 11 12 13 14]]\n",
      "\n",
      " [[15 16 17 18 19]\n",
      "  [20 21 22 23 24]\n",
      "  [25 26 27 28 29]]]\n"
     ]
    }
   ],
   "source": [
    "# Create the 1D array 'a' with 30 elements\n",
    "a = np.arange(30)\n",
    "\n",
    "# Reshape 'a' into a 3D array 'b' with shape (2, 3, -1)\n",
    "b = a.reshape((2, 3, -1))\n",
    "\n",
    "# Print the original array 'a'\n",
    "print(\"Array a:\")\n",
    "print(a)\n",
    "print()\n",
    "\n",
    "# Print the reshaped 3D array 'b'\n",
    "print(\"Array b (reshaped):\")\n",
    "print(b)"
   ]
  },
  {
   "cell_type": "markdown",
   "metadata": {},
   "source": [
    "# Vector- and matrix algebra Exercises"
   ]
  },
  {
   "cell_type": "markdown",
   "metadata": {},
   "source": [
    "**Now you are going to create a function that can be reused every time you add or multiply matrices. The function is created so that we do the addition and multiplication according to the rules of vector- and matrix algebra.**\n",
    "\n",
    "**Create a function \"add_mult_matrices\" that takes two matrices as input arguments (validate that the input are of the type numpy.ndarray by using the isinstance function), a third argument that is either 'add' or 'multiply' that specifies if you want to add or multiply the matrices (validate that the third argument is either 'add' or 'multiply'). When doing matrix addition, validate that the matrices have the same size. When doing matrix multiplication, validate that the sizes conform (i.e. number of columns in the first matrix is equal to the number of rows in the second matrix).**"
   ]
  },
  {
   "cell_type": "markdown",
   "metadata": {},
   "source": [
    "# Answer7"
   ]
  },
  {
   "cell_type": "code",
   "execution_count": 16,
   "metadata": {},
   "outputs": [
    {
     "name": "stdout",
     "output_type": "stream",
     "text": [
      "Matrix Addition Result:\n",
      " [[ 6  8]\n",
      " [10 12]]\n",
      "\n",
      "Matrix Multiplication Result:\n",
      " [[19 22]\n",
      " [43 50]]\n"
     ]
    }
   ],
   "source": [
    "\n",
    "def add_mult_matrices(matrix1, matrix2, operation):\n",
    "    \"\"\"\n",
    "    This function performs matrix addition or multiplication based on the provided operation.\n",
    "    \n",
    "    Parameters:\n",
    "    - matrix1: The first matrix (numpy.ndarray).\n",
    "    - matrix2: The second matrix (numpy.ndarray).\n",
    "    - operation: A string specifying whether to 'add' or 'multiply' the matrices.\n",
    "    \n",
    "    Returns:\n",
    "    - Result of the matrix addition or multiplication.\n",
    "    \"\"\"\n",
    "    \n",
    "    # Validate that the inputs are numpy arrays\n",
    "    if not isinstance(matrix1, np.ndarray) or not isinstance(matrix2, np.ndarray):\n",
    "        raise ValueError(\"Both inputs must be of type numpy.ndarray\")\n",
    "    \n",
    "    # Validate the operation input\n",
    "    if operation not in ['add', 'multiply']:\n",
    "        raise ValueError(\"The operation must be either 'add' or 'multiply'\")\n",
    "    \n",
    "    if operation == 'add':\n",
    "        # Validate that the matrices have the same shape for addition\n",
    "        if matrix1.shape != matrix2.shape:\n",
    "            raise ValueError(\"Matrices must have the same shape for addition\")\n",
    "        return matrix1 + matrix2\n",
    "    \n",
    "    elif operation == 'multiply':\n",
    "        # Validate matrix dimensions for multiplication\n",
    "        if matrix1.shape[1] != matrix2.shape[0]:\n",
    "            raise ValueError(\"Number of columns in the first matrix must match the number of rows in the second matrix\")\n",
    "        return matrix1 @ matrix2\n",
    "\n",
    "# Example matrices\n",
    "matrix1 = np.array([[1, 2], [3, 4]])\n",
    "matrix2 = np.array([[5, 6], [7, 8]])\n",
    "\n",
    "# Example usage of the function\n",
    "try:\n",
    "    result_add = add_mult_matrices(matrix1, matrix2, 'add')\n",
    "    print(\"Matrix Addition Result:\\n\", result_add)\n",
    "except ValueError as e:\n",
    "    print(e)\n",
    "\n",
    "try:\n",
    "    result_mult = add_mult_matrices(matrix1, matrix2, 'multiply')\n",
    "    print(\"\\nMatrix Multiplication Result:\\n\", result_mult)\n",
    "except ValueError as e:\n",
    "    print(e)\n"
   ]
  },
  {
   "cell_type": "markdown",
   "metadata": {},
   "source": [
    "### Solve all the exercises in chapter 10.1 in the book \"Matematik för yrkeshögskolan\". "
   ]
  },
  {
   "cell_type": "markdown",
   "metadata": {},
   "source": [
    "# Answer8"
   ]
  },
  {
   "cell_type": "code",
   "execution_count": 17,
   "metadata": {},
   "outputs": [
    {
     "name": "stdout",
     "output_type": "stream",
     "text": [
      "(a) Dimension of vector x: (2,)\n",
      "(b) 5x: [20 15]\n",
      "(c) 3x: [12  9]\n",
      "(d) 5x + 3x: [32 24]\n",
      "(e) 8x: [32 24]\n",
      "(f) 4x - x: [12  9]\n",
      "(g) Transposed x: [4 3] (No change in shape for a 1D vector)\n",
      "(h) x + x^T is defined: [8 6]\n",
      "(i) ||x||: 5.0\n"
     ]
    }
   ],
   "source": [
    "import numpy as np\n",
    "\n",
    "# Define the vector x\n",
    "x = np.array([4, 3])\n",
    "\n",
    "# (a) Dimension of the vector x\n",
    "print(f\"(a) Dimension of vector x: {x.shape}\")\n",
    "\n",
    "# (b) Calculate 5x\n",
    "result_b = 5 * x\n",
    "print(f\"(b) 5x: {result_b}\")\n",
    "\n",
    "# (c) Calculate 3x\n",
    "result_c = 3 * x\n",
    "print(f\"(c) 3x: {result_c}\")\n",
    "\n",
    "# (d) Calculate 5x + 3x\n",
    "result_d = 5 * x + 3 * x\n",
    "print(f\"(d) 5x + 3x: {result_d}\")\n",
    "\n",
    "# (e) Calculate 8x\n",
    "result_e = 8 * x\n",
    "print(f\"(e) 8x: {result_e}\")\n",
    "\n",
    "# (f) Calculate 4x - x\n",
    "result_f = 4 * x - x\n",
    "print(f\"(f) 4x - x: {result_f}\")\n",
    "\n",
    "# (g) Transpose of vector x (since x is a 1D array, the transpose doesn't change its shape)\n",
    "x_transposed = np.transpose(x)\n",
    "print(f\"(g) Transposed x: {x_transposed} (No change in shape for a 1D vector)\")\n",
    "\n",
    "# (h) Is x + x^T defined?\n",
    "try:\n",
    "    result_h = x + x_transposed\n",
    "    print(f\"(h) x + x^T is defined: {result_h}\")\n",
    "except ValueError as e:\n",
    "    print(f\"(h) x + x^T is not defined: {e}\")\n",
    "\n",
    "# (i) Calculate ||x|| (norm of the vector)\n",
    "norm_x = np.linalg.norm(x)\n",
    "print(f\"(i) ||x||: {norm_x}\")"
   ]
  },
  {
   "cell_type": "markdown",
   "metadata": {},
   "source": [
    "### Solve all the exercises, except 10.2.4, in chapter 10.2 in the book \"Matematik för yrkeshögskolan\". "
   ]
  },
  {
   "cell_type": "markdown",
   "metadata": {},
   "source": [
    "# Answer9"
   ]
  },
  {
   "cell_type": "code",
   "execution_count": 18,
   "metadata": {},
   "outputs": [
    {
     "name": "stdout",
     "output_type": "stream",
     "text": [
      "(a) 2A:\n",
      "[[ 4  2 -2]\n",
      " [ 2 -2  2]]\n",
      "\n",
      "(b) B - 2A:\n",
      "[[ 0 -4  3]\n",
      " [ 0 -2 -4]]\n",
      "\n",
      "(c) 3C - 2E:\n",
      "[[-1 -2]\n",
      " [ 2 -5]]\n",
      "\n",
      "(d) 2D - 3C:\n",
      "[[3 2]\n",
      " [2 3]]\n",
      "\n",
      "(a) 2A:\n",
      "[[ 4  2 -2]\n",
      " [ 2 -2  2]]\n",
      "\n",
      "(b) B - 2A:\n",
      "[[ 0 -4  3]\n",
      " [ 0 -2 -4]]\n",
      "\n",
      "(c) 3C - 2E:\n",
      "[[-1 -2]\n",
      " [ 2 -5]]\n",
      "\n",
      "(d) 2D - 3C:\n",
      "[[3 2]\n",
      " [2 3]]\n",
      "\n",
      "(e) D^T + 2D:\n",
      "[[ 9 12]\n",
      " [12  9]]\n",
      "\n",
      "(f) 2C^T - 2D^T:\n",
      "[[-4 -4]\n",
      " [-4 -4]]\n",
      "\n"
     ]
    },
    {
     "ename": "ValueError",
     "evalue": "operands could not be broadcast together with shapes (3,2) (2,3) ",
     "output_type": "error",
     "traceback": [
      "\u001b[1;31m---------------------------------------------------------------------------\u001b[0m",
      "\u001b[1;31mValueError\u001b[0m                                Traceback (most recent call last)",
      "Cell \u001b[1;32mIn[18], line 71\u001b[0m\n\u001b[0;32m     67\u001b[0m \u001b[38;5;28mprint\u001b[39m(\u001b[38;5;124mf\u001b[39m\u001b[38;5;124m\"\u001b[39m\u001b[38;5;124m(f) 2C^T - 2D^T:\u001b[39m\u001b[38;5;130;01m\\n\u001b[39;00m\u001b[38;5;132;01m{\u001b[39;00mresult_f\u001b[38;5;132;01m}\u001b[39;00m\u001b[38;5;130;01m\\n\u001b[39;00m\u001b[38;5;124m\"\u001b[39m)\n\u001b[0;32m     69\u001b[0m \u001b[38;5;66;03m# (g) A^T - B\u001b[39;00m\n\u001b[0;32m     70\u001b[0m \u001b[38;5;66;03m# Transpose A and subtract B\u001b[39;00m\n\u001b[1;32m---> 71\u001b[0m result_g \u001b[38;5;241m=\u001b[39m A\u001b[38;5;241m.\u001b[39mT \u001b[38;5;241m-\u001b[39m B\n\u001b[0;32m     72\u001b[0m \u001b[38;5;28mprint\u001b[39m(\u001b[38;5;124mf\u001b[39m\u001b[38;5;124m\"\u001b[39m\u001b[38;5;124m(g) A^T - B:\u001b[39m\u001b[38;5;130;01m\\n\u001b[39;00m\u001b[38;5;132;01m{\u001b[39;00mresult_g\u001b[38;5;132;01m}\u001b[39;00m\u001b[38;5;130;01m\\n\u001b[39;00m\u001b[38;5;124m\"\u001b[39m)\n\u001b[0;32m     74\u001b[0m \u001b[38;5;66;03m# (h) AC (matrix product between A and C)\u001b[39;00m\n",
      "\u001b[1;31mValueError\u001b[0m: operands could not be broadcast together with shapes (3,2) (2,3) "
     ]
    }
   ],
   "source": [
    "import numpy as np\n",
    "\n",
    "# Define matrices from exercise 10.2.1\n",
    "A = np.array([[2, 1, -1], [1, -1, 1]])\n",
    "B = np.array([[4, -2, 1], [2, -4, -2]])\n",
    "C = np.array([[1, 2], [2, 1]])\n",
    "D = np.array([[3, 4], [4, 3]])\n",
    "E = np.array([[1], [2]])\n",
    "I = np.array([[1, 0], [0, 1]])\n",
    "\n",
    "# (a) 2A\n",
    "result_a = 2 * A\n",
    "print(f\"(a) 2A:\\n{result_a}\\n\")\n",
    "\n",
    "# (b) B - 2A\n",
    "result_b = B - 2 * A\n",
    "print(f\"(b) B - 2A:\\n{result_b}\\n\")\n",
    "\n",
    "# (c) 3C - 2E (E needs to be broadcast to match dimensions of 3C)\n",
    "C_expanded = np.array([[1, 2], [2, 1]])  # reshape C as 2x2 for consistency\n",
    "E_expanded = np.array([[2, 4], [2, 4]])  # broadcast E as 2x2 to match\n",
    "result_c = 3 * C_expanded - 2 * E_expanded\n",
    "print(f\"(c) 3C - 2E:\\n{result_c}\\n\")\n",
    "\n",
    "# (d) 2D - 3C\n",
    "result_d = 2 * D - 3 * C\n",
    "print(f\"(d) 2D - 3C:\\n{result_d}\\n\")\n",
    "\n",
    "# (e) D^T …\n",
    "import numpy as np\n",
    "\n",
    "# Define matrices from exercise 10.2.1\n",
    "A = np.array([[2, 1, -1], [1, -1, 1]])\n",
    "B = np.array([[4, -2, 1], [2, -4, -2]])\n",
    "C = np.array([[1, 2], [2, 1]])\n",
    "D = np.array([[3, 4], [4, 3]])\n",
    "E = np.array([[1], [2]])\n",
    "I = np.array([[1, 0], [0, 1]])\n",
    "\n",
    "# Exercise 10.2.1\n",
    "\n",
    "# (a) 2A\n",
    "result_a = 2 * A\n",
    "print(f\"(a) 2A:\\n{result_a}\\n\")\n",
    "\n",
    "# (b) B - 2A\n",
    "result_b = B - 2 * A\n",
    "print(f\"(b) B - 2A:\\n{result_b}\\n\")\n",
    "\n",
    "# (c) 3C - 2E\n",
    "# Here, we need to expand E to be able to subtract it from C.\n",
    "E_expanded = np.array([[2, 4], [2, 4]])  # Adjust E to match dimensions\n",
    "result_c = 3 * C - 2 * E_expanded\n",
    "print(f\"(c) 3C - 2E:\\n{result_c}\\n\")\n",
    "\n",
    "# (d) 2D - 3C\n",
    "# We can subtract C from D as they have the same dimensions.\n",
    "result_d = 2 * D - 3 * C\n",
    "print(f\"(d) 2D - 3C:\\n{result_d}\\n\")\n",
    "\n",
    "# (e) D^T + 2D (D^T is the transpose of D)\n",
    "result_e = D.T + 2 * D\n",
    "print(f\"(e) D^T + 2D:\\n{result_e}\\n\")\n",
    "\n",
    "# (f) 2C^T - 2D^T\n",
    "result_f = 2 * C.T - 2 * D.T\n",
    "print(f\"(f) 2C^T - 2D^T:\\n{result_f}\\n\")\n",
    "\n",
    "# (g) A^T - B\n",
    "# Transpose A and subtract B\n",
    "result_g = A.T - B\n",
    "print(f\"(g) A^T - B:\\n{result_g}\\n\")\n",
    "\n",
    "# (h) AC (matrix product between A and C)\n",
    "try:\n",
    "    result_h = np.dot(A, C)  # Use np.dot for matrix product\n",
    "    print(f\"(h) AC:\\n{result_h}\\n\")\n",
    "except ValueError as e:\n",
    "    print(f\"(h) AC is not defined: {e}\\n\")\n",
    "\n",
    "# (i) CD (matrix product between C and D)\n",
    "try:\n",
    "    result_i = np.dot(C, D)\n",
    "    print(f\"(i) CD:\\n{result_i}\\n\")\n",
    "except ValueError as e:\n",
    "    print(f\"(i) CD is not defined: {e}\\n\")\n",
    "\n",
    "# (j) CB (matrix product between C and B)\n",
    "try:\n",
    "    result_j = np.dot(C, B)\n",
    "    print(f\"(j) CB:\\n{result_j}\\n\")\n",
    "except ValueError as e:\n",
    "    print(f\"(j) CB is not defined: {e}\\n\")\n",
    "\n",
    "# (k) CI (matrix product between C and I, the identity matrix)\n",
    "result_k = np.dot(C, I)\n",
    "print(f\"(k) CI:\\n{result_k}\\n\")\n",
    "\n",
    "# (l) AB^T (matrix product between A and the transpose of B)\n",
    "result_l = np.dot(A, B.T)\n",
    "print(f\"(l) AB^T:\\n{result_l}\\n\")\n",
    "\n",
    "\n",
    "# Exercise 10.2.2 - Calculate A * A^T\n",
    "A_2_2 = np.array([[2, 3, 4], [5, 4, 1]])  # Matrix for exercise 10.2.2\n",
    "result_2_2 = np.dot(A_2_2, A_2_2.T)\n",
    "print(f\"\\nExercise 10.2.2 - A * A^T:\\n{result_2_2}n\")"
   ]
  },
  {
   "cell_type": "markdown",
   "metadata": {},
   "source": [
    "**Basic indexing creates a view, How can you check if v1 and v2 is a view or copy? If you change the last element in v2 to 123, will the last element in v1 be changed? Why?**"
   ]
  },
  {
   "cell_type": "code",
   "execution_count": 36,
   "metadata": {},
   "outputs": [
    {
     "name": "stdout",
     "output_type": "stream",
     "text": [
      "[0 1 2 3]\n",
      "[2 3]\n"
     ]
    }
   ],
   "source": [
    "v1 = np.arange(4)\n",
    "v2 = v1[-2:]\n",
    "print(v1)\n",
    "print(v2)"
   ]
  },
  {
   "cell_type": "code",
   "execution_count": 37,
   "metadata": {},
   "outputs": [
    {
     "name": "stdout",
     "output_type": "stream",
     "text": [
      "None\n",
      "[0 1 2 3]\n"
     ]
    }
   ],
   "source": [
    "# The base attribute of a view returns the original array while it returns None for a copy.\n",
    "print(v1.base)\n",
    "print(v2.base)"
   ]
  },
  {
   "cell_type": "code",
   "execution_count": 38,
   "metadata": {},
   "outputs": [
    {
     "name": "stdout",
     "output_type": "stream",
     "text": [
      "[  0   1   2 123]\n",
      "[  2 123]\n"
     ]
    }
   ],
   "source": [
    "# The last element in v1 will be changed aswell since v2 is a view, meaning they share the same data buffer.\n",
    "v2[-1] = 123\n",
    "print(v1)\n",
    "print(v2)"
   ]
  },
  {
   "cell_type": "markdown",
   "metadata": {},
   "source": [
    "# Answer10"
   ]
  },
  {
   "cell_type": "code",
   "execution_count": 39,
   "metadata": {},
   "outputs": [
    {
     "name": "stdout",
     "output_type": "stream",
     "text": [
      "v1: [0 1 2 3]\n",
      "v2 (view of v1): [2 3]\n",
      "\n",
      "Base of v1 (None if original): None\n",
      "Base of v2 (original array if it's a view): [0 1 2 3]\n",
      "\n",
      "After modifying v2:\n",
      "v1 (original array, modified through view): [  0   1   2 123]\n",
      "v2 (view of v1): [  2 123]\n"
     ]
    }
   ],
   "source": [
    "import numpy as np\n",
    "\n",
    "# Create an array 'v1'\n",
    "v1 = np.arange(4)\n",
    "\n",
    "# Create 'v2' as a slice of 'v1' (this will be a view, not a copy)\n",
    "v2 = v1[-2:]\n",
    "\n",
    "# Print the original arrays\n",
    "print(\"v1:\", v1)\n",
    "print(\"v2 (view of v1):\", v2)\n",
    "\n",
    "# Check the 'base' attribute to see if they share the same data\n",
    "print(\"\\nBase of v1 (None if original):\", v1.base)  # This will be None since 'v1' is the original array\n",
    "print(\"Base of v2 (original array if it's a view):\", v2.base)  # This will be 'v1' since 'v2' is a view of 'v1'\n",
    "\n",
    "# Modify the last element of 'v2'\n",
    "v2[-1] = 123\n",
    "\n",
    "# Print the arrays again to see the change\n",
    "print(\"\\nAfter modifying v2:\")\n",
    "print(\"v1 (original array, modified through view):\", v1)\n",
    "print(\"v2 (view of v1):\", v2)\n"
   ]
  }
 ],
 "metadata": {
  "kernelspec": {
   "display_name": "base",
   "language": "python",
   "name": "python3"
  },
  "language_info": {
   "codemirror_mode": {
    "name": "ipython",
    "version": 3
   },
   "file_extension": ".py",
   "mimetype": "text/x-python",
   "name": "python",
   "nbconvert_exporter": "python",
   "pygments_lexer": "ipython3",
   "version": "3.12.4"
  }
 },
 "nbformat": 4,
 "nbformat_minor": 2
}
