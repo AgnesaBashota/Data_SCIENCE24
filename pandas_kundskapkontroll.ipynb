{
 "cells": [
  {
   "cell_type": "markdown",
   "metadata": {},
   "source": [
    "# Pandas"
   ]
  },
  {
   "cell_type": "code",
   "execution_count": 47,
   "metadata": {},
   "outputs": [],
   "source": [
    "# importing Pandas\n",
    "import pandas as pd "
   ]
  },
  {
   "cell_type": "markdown",
   "metadata": {},
   "source": [
    "### Explain what a CSV file is."
   ]
  },
  {
   "cell_type": "markdown",
   "metadata": {},
   "source": [
    "# Answer"
   ]
  },
  {
   "cell_type": "markdown",
   "metadata": {},
   "source": [
    "### A CSV file is a text file where data is stored in rows, with values separated by commas. It's used to organize data in a simple table format."
   ]
  },
  {
   "cell_type": "markdown",
   "metadata": {},
   "source": [
    "### Load the data set \"cars_data\" through Pandas. "
   ]
  },
  {
   "cell_type": "code",
   "execution_count": 48,
   "metadata": {},
   "outputs": [],
   "source": [
    "# When reading in the data, either you have the data file in the same folder as your python script\n",
    "# or in a seperate folder.\n",
    "\n",
    "# Code below can be ran if you have the data file in the same folder as the script\n",
    "# cars = pd.read_csv(\"cars_data.csv\")\n",
    "\n",
    "# Code below can be ran if you have the data file in another script. \n",
    "# Notice, you must change the path according to where you have the data in your computer. \n",
    "# pd.read_csv(r'C:\\Users\\Antonio Prgomet\\Documents\\ec_utbildning\\kursframstallning\\ds23\\python_stat\\exercises\\numpy_matplot_pandas\\cars_data.csv')"
   ]
  },
  {
   "cell_type": "markdown",
   "metadata": {},
   "source": [
    "### Print the first 10 rows of the data. "
   ]
  },
  {
   "cell_type": "code",
   "execution_count": 49,
   "metadata": {},
   "outputs": [
    {
     "name": "stdout",
     "output_type": "stream",
     "text": [
      "   index      company   body-style  wheel-base  length engine-type  \\\n",
      "0      0  alfa-romero  convertible        88.6   168.8        dohc   \n",
      "1      1  alfa-romero  convertible        88.6   168.8        dohc   \n",
      "2      2  alfa-romero    hatchback        94.5   171.2        ohcv   \n",
      "3      3         audi        sedan        99.8   176.6         ohc   \n",
      "4      4         audi        sedan        99.4   176.6         ohc   \n",
      "5      5         audi        sedan        99.8   177.3         ohc   \n",
      "6      6         audi        wagon       105.8   192.7         ohc   \n",
      "7      9          bmw        sedan       101.2   176.8         ohc   \n",
      "8     10          bmw        sedan       101.2   176.8         ohc   \n",
      "9     11          bmw        sedan       101.2   176.8         ohc   \n",
      "\n",
      "  num-of-cylinders  horsepower  average-mileage    price  \n",
      "0             four         111               21  13495.0  \n",
      "1             four         111               21  16500.0  \n",
      "2              six         154               19  16500.0  \n",
      "3             four         102               24  13950.0  \n",
      "4             five         115               18  17450.0  \n",
      "5             five         110               19  15250.0  \n",
      "6             five         110               19  18920.0  \n",
      "7             four         101               23  16430.0  \n",
      "8             four         101               23  16925.0  \n",
      "9              six         121               21  20970.0  \n"
     ]
    }
   ],
   "source": [
    "import pandas as pd\n",
    "\n",
    "# Fullständig sökväg till din CSV-fil\n",
    "cars = pd.read_csv(r\"cara_data.csv\")  # Glöm inte 'r' innan sökvägen!\n",
    "\n",
    "# Visa de första 10 raderna\n",
    "print(cars.head(10))"
   ]
  },
  {
   "cell_type": "markdown",
   "metadata": {},
   "source": [
    "# Answer"
   ]
  },
  {
   "cell_type": "markdown",
   "metadata": {},
   "source": [
    "### Print the last 5 rows. "
   ]
  },
  {
   "cell_type": "markdown",
   "metadata": {},
   "source": [
    "# Answer"
   ]
  },
  {
   "cell_type": "code",
   "execution_count": 50,
   "metadata": {},
   "outputs": [
    {
     "name": "stdout",
     "output_type": "stream",
     "text": [
      "   index      company   body-style  wheel-base  length engine-type  \\\n",
      "0      0  alfa-romero  convertible        88.6   168.8        dohc   \n",
      "1      1  alfa-romero  convertible        88.6   168.8        dohc   \n",
      "2      2  alfa-romero    hatchback        94.5   171.2        ohcv   \n",
      "3      3         audi        sedan        99.8   176.6         ohc   \n",
      "4      4         audi        sedan        99.4   176.6         ohc   \n",
      "\n",
      "  num-of-cylinders  horsepower  average-mileage    price  \n",
      "0             four         111               21  13495.0  \n",
      "1             four         111               21  16500.0  \n",
      "2              six         154               19  16500.0  \n",
      "3             four         102               24  13950.0  \n",
      "4             five         115               18  17450.0  \n"
     ]
    }
   ],
   "source": [
    "import pandas as pd\n",
    "\n",
    "# Fullständig sökväg till din CSV-fil\n",
    "cars = pd.read_csv(r\"cara_data.csv\")  # Glöm inte 'r' innan sökvägen!\n",
    "\n",
    "# Visa de sista 5 raderna\n",
    "print(cars.head(5))"
   ]
  },
  {
   "cell_type": "markdown",
   "metadata": {},
   "source": [
    "### By using the info method, check how many non-null rows each column have. "
   ]
  },
  {
   "cell_type": "markdown",
   "metadata": {},
   "source": [
    "# Answer"
   ]
  },
  {
   "cell_type": "markdown",
   "metadata": {},
   "source": [
    "### If any column has a missing value, drop the entire row. Notice, the operation should be inplace meaning you change the dataframe itself."
   ]
  },
  {
   "cell_type": "markdown",
   "metadata": {},
   "source": [
    "# Answer"
   ]
  },
  {
   "cell_type": "code",
   "execution_count": 51,
   "metadata": {},
   "outputs": [
    {
     "name": "stdout",
     "output_type": "stream",
     "text": [
      "   index      company   body-style  wheel-base  length engine-type  \\\n",
      "0      0  alfa-romero  convertible        88.6   168.8        dohc   \n",
      "1      1  alfa-romero  convertible        88.6   168.8        dohc   \n",
      "2      2  alfa-romero    hatchback        94.5   171.2        ohcv   \n",
      "3      3         audi        sedan        99.8   176.6         ohc   \n",
      "4      4         audi        sedan        99.4   176.6         ohc   \n",
      "5      5         audi        sedan        99.8   177.3         ohc   \n",
      "6      6         audi        wagon       105.8   192.7         ohc   \n",
      "7      9          bmw        sedan       101.2   176.8         ohc   \n",
      "8     10          bmw        sedan       101.2   176.8         ohc   \n",
      "9     11          bmw        sedan       101.2   176.8         ohc   \n",
      "\n",
      "  num-of-cylinders  horsepower  average-mileage    price  \n",
      "0             four         111               21  13495.0  \n",
      "1             four         111               21  16500.0  \n",
      "2              six         154               19  16500.0  \n",
      "3             four         102               24  13950.0  \n",
      "4             five         115               18  17450.0  \n",
      "5             five         110               19  15250.0  \n",
      "6             five         110               19  18920.0  \n",
      "7             four         101               23  16430.0  \n",
      "8             four         101               23  16925.0  \n",
      "9              six         121               21  20970.0  \n"
     ]
    }
   ],
   "source": [
    "import pandas as pd\n",
    "\n",
    "# Load the dataset from the current directory\n",
    "cara_data = pd.read_csv(\"cara_data.csv\")\n",
    "\n",
    "# Drop rows with missing values and apply the operation to the original DataFrame\n",
    "cara_data.dropna(inplace=True)\n",
    "\n",
    "# Print the first 10 rows to verify the changes\n",
    "print(cara_data.head(10))\n"
   ]
  },
  {
   "cell_type": "markdown",
   "metadata": {},
   "source": [
    "### Calculate the mean of each numeric column. "
   ]
  },
  {
   "cell_type": "markdown",
   "metadata": {},
   "source": [
    "# Answer"
   ]
  },
  {
   "cell_type": "code",
   "execution_count": 53,
   "metadata": {},
   "outputs": [
    {
     "name": "stdout",
     "output_type": "stream",
     "text": [
      "   index      company   body-style  wheel-base  length engine-type  \\\n",
      "0      0  alfa-romero  convertible        88.6   168.8        dohc   \n",
      "1      1  alfa-romero  convertible        88.6   168.8        dohc   \n",
      "2      2  alfa-romero    hatchback        94.5   171.2        ohcv   \n",
      "3      3         audi        sedan        99.8   176.6         ohc   \n",
      "4      4         audi        sedan        99.4   176.6         ohc   \n",
      "\n",
      "  num-of-cylinders  horsepower  average-mileage    price  \n",
      "0             four         111               21  13495.0  \n",
      "1             four         111               21  16500.0  \n",
      "2              six         154               19  16500.0  \n",
      "3             four         102               24  13950.0  \n",
      "4             five         115               18  17450.0  \n",
      "index                 int64\n",
      "company              object\n",
      "body-style           object\n",
      "wheel-base          float64\n",
      "length              float64\n",
      "engine-type          object\n",
      "num-of-cylinders     object\n",
      "horsepower            int64\n",
      "average-mileage       int64\n",
      "price               float64\n",
      "dtype: object\n"
     ]
    },
    {
     "ename": "TypeError",
     "evalue": "Could not convert ['alfa-romeroalfa-romeroalfa-romeroaudiaudiaudiaudibmwbmwbmwbmwbmwbmwchevroletchevroletchevroletdodgedodgehondahondahondaisuzujaguarjaguarjaguarmazdamazdamazdamazdamazdamercedes-benzmercedes-benzmercedes-benzmercedes-benzmitsubishimitsubishimitsubishimitsubishinissannissannissannissannissanporscheporschetoyotatoyotatoyotatoyotatoyotatoyotatoyotavolkswagenvolkswagenvolkswagenvolkswagenvolvovolvo'\n 'convertibleconvertiblehatchbacksedansedansedanwagonsedansedansedansedansedansedanhatchbackhatchbacksedanhatchbackhatchbackwagonsedansedansedansedansedansedanhatchbackhatchbackhatchbackhatchbacksedansedanwagonsedanhardtophatchbackhatchbacksedansedansedansedansedanwagonsedanhardtopconvertiblehatchbackhatchbackhatchbackwagonwagonwagonwagonsedansedansedansedansedanwagon'\n 'dohcdohcohcvohcohcohcohcohcohcohcohcohcohclohcohcohcohcohcohcohcohcdohcdohcohcvohcohcohcrotorohcohcohcohcvohcvohcohcohcohcohcohcohcohcohcvohcfohcfohcohcohcohcohcohcdohcohcohcohcohcohcohc'\n 'fourfoursixfourfivefivefivefourfoursixsixsixsixthreefourfourfourfourfourfourfourfoursixsixtwelvefourfourfourtwofourfivefiveeighteightfourfourfourfourfourfourfourfoursixsixsixfourfourfourfourfourfoursixfourfourfourfourfourfour'] to numeric",
     "output_type": "error",
     "traceback": [
      "\u001b[1;31m---------------------------------------------------------------------------\u001b[0m",
      "\u001b[1;31mTypeError\u001b[0m                                 Traceback (most recent call last)",
      "Cell \u001b[1;32mIn[53], line 18\u001b[0m\n\u001b[0;32m     15\u001b[0m df\u001b[38;5;241m.\u001b[39mdropna(inplace\u001b[38;5;241m=\u001b[39m\u001b[38;5;28;01mTrue\u001b[39;00m)\n\u001b[0;32m     17\u001b[0m \u001b[38;5;66;03m# Calculate the mean of each numeric column\u001b[39;00m\n\u001b[1;32m---> 18\u001b[0m mean_valueas \u001b[38;5;241m=\u001b[39m df\u001b[38;5;241m.\u001b[39mmean()\n\u001b[0;32m     20\u001b[0m \u001b[38;5;66;03m# Print the mean values\u001b[39;00m\n\u001b[0;32m     21\u001b[0m \u001b[38;5;28mprint\u001b[39m(mean_valueas)\n",
      "File \u001b[1;32mc:\\Users\\basho\\anaconda3\\Lib\\site-packages\\pandas\\core\\frame.py:11693\u001b[0m, in \u001b[0;36mDataFrame.mean\u001b[1;34m(self, axis, skipna, numeric_only, **kwargs)\u001b[0m\n\u001b[0;32m  11685\u001b[0m \u001b[38;5;129m@doc\u001b[39m(make_doc(\u001b[38;5;124m\"\u001b[39m\u001b[38;5;124mmean\u001b[39m\u001b[38;5;124m\"\u001b[39m, ndim\u001b[38;5;241m=\u001b[39m\u001b[38;5;241m2\u001b[39m))\n\u001b[0;32m  11686\u001b[0m \u001b[38;5;28;01mdef\u001b[39;00m \u001b[38;5;21mmean\u001b[39m(\n\u001b[0;32m  11687\u001b[0m     \u001b[38;5;28mself\u001b[39m,\n\u001b[1;32m   (...)\u001b[0m\n\u001b[0;32m  11691\u001b[0m     \u001b[38;5;241m*\u001b[39m\u001b[38;5;241m*\u001b[39mkwargs,\n\u001b[0;32m  11692\u001b[0m ):\n\u001b[1;32m> 11693\u001b[0m     result \u001b[38;5;241m=\u001b[39m \u001b[38;5;28msuper\u001b[39m()\u001b[38;5;241m.\u001b[39mmean(axis, skipna, numeric_only, \u001b[38;5;241m*\u001b[39m\u001b[38;5;241m*\u001b[39mkwargs)\n\u001b[0;32m  11694\u001b[0m     \u001b[38;5;28;01mif\u001b[39;00m \u001b[38;5;28misinstance\u001b[39m(result, Series):\n\u001b[0;32m  11695\u001b[0m         result \u001b[38;5;241m=\u001b[39m result\u001b[38;5;241m.\u001b[39m__finalize__(\u001b[38;5;28mself\u001b[39m, method\u001b[38;5;241m=\u001b[39m\u001b[38;5;124m\"\u001b[39m\u001b[38;5;124mmean\u001b[39m\u001b[38;5;124m\"\u001b[39m)\n",
      "File \u001b[1;32mc:\\Users\\basho\\anaconda3\\Lib\\site-packages\\pandas\\core\\generic.py:12420\u001b[0m, in \u001b[0;36mNDFrame.mean\u001b[1;34m(self, axis, skipna, numeric_only, **kwargs)\u001b[0m\n\u001b[0;32m  12413\u001b[0m \u001b[38;5;28;01mdef\u001b[39;00m \u001b[38;5;21mmean\u001b[39m(\n\u001b[0;32m  12414\u001b[0m     \u001b[38;5;28mself\u001b[39m,\n\u001b[0;32m  12415\u001b[0m     axis: Axis \u001b[38;5;241m|\u001b[39m \u001b[38;5;28;01mNone\u001b[39;00m \u001b[38;5;241m=\u001b[39m \u001b[38;5;241m0\u001b[39m,\n\u001b[1;32m   (...)\u001b[0m\n\u001b[0;32m  12418\u001b[0m     \u001b[38;5;241m*\u001b[39m\u001b[38;5;241m*\u001b[39mkwargs,\n\u001b[0;32m  12419\u001b[0m ) \u001b[38;5;241m-\u001b[39m\u001b[38;5;241m>\u001b[39m Series \u001b[38;5;241m|\u001b[39m \u001b[38;5;28mfloat\u001b[39m:\n\u001b[1;32m> 12420\u001b[0m     \u001b[38;5;28;01mreturn\u001b[39;00m \u001b[38;5;28mself\u001b[39m\u001b[38;5;241m.\u001b[39m_stat_function(\n\u001b[0;32m  12421\u001b[0m         \u001b[38;5;124m\"\u001b[39m\u001b[38;5;124mmean\u001b[39m\u001b[38;5;124m\"\u001b[39m, nanops\u001b[38;5;241m.\u001b[39mnanmean, axis, skipna, numeric_only, \u001b[38;5;241m*\u001b[39m\u001b[38;5;241m*\u001b[39mkwargs\n\u001b[0;32m  12422\u001b[0m     )\n",
      "File \u001b[1;32mc:\\Users\\basho\\anaconda3\\Lib\\site-packages\\pandas\\core\\generic.py:12377\u001b[0m, in \u001b[0;36mNDFrame._stat_function\u001b[1;34m(self, name, func, axis, skipna, numeric_only, **kwargs)\u001b[0m\n\u001b[0;32m  12373\u001b[0m nv\u001b[38;5;241m.\u001b[39mvalidate_func(name, (), kwargs)\n\u001b[0;32m  12375\u001b[0m validate_bool_kwarg(skipna, \u001b[38;5;124m\"\u001b[39m\u001b[38;5;124mskipna\u001b[39m\u001b[38;5;124m\"\u001b[39m, none_allowed\u001b[38;5;241m=\u001b[39m\u001b[38;5;28;01mFalse\u001b[39;00m)\n\u001b[1;32m> 12377\u001b[0m \u001b[38;5;28;01mreturn\u001b[39;00m \u001b[38;5;28mself\u001b[39m\u001b[38;5;241m.\u001b[39m_reduce(\n\u001b[0;32m  12378\u001b[0m     func, name\u001b[38;5;241m=\u001b[39mname, axis\u001b[38;5;241m=\u001b[39maxis, skipna\u001b[38;5;241m=\u001b[39mskipna, numeric_only\u001b[38;5;241m=\u001b[39mnumeric_only\n\u001b[0;32m  12379\u001b[0m )\n",
      "File \u001b[1;32mc:\\Users\\basho\\anaconda3\\Lib\\site-packages\\pandas\\core\\frame.py:11562\u001b[0m, in \u001b[0;36mDataFrame._reduce\u001b[1;34m(self, op, name, axis, skipna, numeric_only, filter_type, **kwds)\u001b[0m\n\u001b[0;32m  11558\u001b[0m     df \u001b[38;5;241m=\u001b[39m df\u001b[38;5;241m.\u001b[39mT\n\u001b[0;32m  11560\u001b[0m \u001b[38;5;66;03m# After possibly _get_data and transposing, we are now in the\u001b[39;00m\n\u001b[0;32m  11561\u001b[0m \u001b[38;5;66;03m#  simple case where we can use BlockManager.reduce\u001b[39;00m\n\u001b[1;32m> 11562\u001b[0m res \u001b[38;5;241m=\u001b[39m df\u001b[38;5;241m.\u001b[39m_mgr\u001b[38;5;241m.\u001b[39mreduce(blk_func)\n\u001b[0;32m  11563\u001b[0m out \u001b[38;5;241m=\u001b[39m df\u001b[38;5;241m.\u001b[39m_constructor_from_mgr(res, axes\u001b[38;5;241m=\u001b[39mres\u001b[38;5;241m.\u001b[39maxes)\u001b[38;5;241m.\u001b[39miloc[\u001b[38;5;241m0\u001b[39m]\n\u001b[0;32m  11564\u001b[0m \u001b[38;5;28;01mif\u001b[39;00m out_dtype \u001b[38;5;129;01mis\u001b[39;00m \u001b[38;5;129;01mnot\u001b[39;00m \u001b[38;5;28;01mNone\u001b[39;00m \u001b[38;5;129;01mand\u001b[39;00m out\u001b[38;5;241m.\u001b[39mdtype \u001b[38;5;241m!=\u001b[39m \u001b[38;5;124m\"\u001b[39m\u001b[38;5;124mboolean\u001b[39m\u001b[38;5;124m\"\u001b[39m:\n",
      "File \u001b[1;32mc:\\Users\\basho\\anaconda3\\Lib\\site-packages\\pandas\\core\\internals\\managers.py:1500\u001b[0m, in \u001b[0;36mBlockManager.reduce\u001b[1;34m(self, func)\u001b[0m\n\u001b[0;32m   1498\u001b[0m res_blocks: \u001b[38;5;28mlist\u001b[39m[Block] \u001b[38;5;241m=\u001b[39m []\n\u001b[0;32m   1499\u001b[0m \u001b[38;5;28;01mfor\u001b[39;00m blk \u001b[38;5;129;01min\u001b[39;00m \u001b[38;5;28mself\u001b[39m\u001b[38;5;241m.\u001b[39mblocks:\n\u001b[1;32m-> 1500\u001b[0m     nbs \u001b[38;5;241m=\u001b[39m blk\u001b[38;5;241m.\u001b[39mreduce(func)\n\u001b[0;32m   1501\u001b[0m     res_blocks\u001b[38;5;241m.\u001b[39mextend(nbs)\n\u001b[0;32m   1503\u001b[0m index \u001b[38;5;241m=\u001b[39m Index([\u001b[38;5;28;01mNone\u001b[39;00m])  \u001b[38;5;66;03m# placeholder\u001b[39;00m\n",
      "File \u001b[1;32mc:\\Users\\basho\\anaconda3\\Lib\\site-packages\\pandas\\core\\internals\\blocks.py:404\u001b[0m, in \u001b[0;36mBlock.reduce\u001b[1;34m(self, func)\u001b[0m\n\u001b[0;32m    398\u001b[0m \u001b[38;5;129m@final\u001b[39m\n\u001b[0;32m    399\u001b[0m \u001b[38;5;28;01mdef\u001b[39;00m \u001b[38;5;21mreduce\u001b[39m(\u001b[38;5;28mself\u001b[39m, func) \u001b[38;5;241m-\u001b[39m\u001b[38;5;241m>\u001b[39m \u001b[38;5;28mlist\u001b[39m[Block]:\n\u001b[0;32m    400\u001b[0m     \u001b[38;5;66;03m# We will apply the function and reshape the result into a single-row\u001b[39;00m\n\u001b[0;32m    401\u001b[0m     \u001b[38;5;66;03m#  Block with the same mgr_locs; squeezing will be done at a higher level\u001b[39;00m\n\u001b[0;32m    402\u001b[0m     \u001b[38;5;28;01massert\u001b[39;00m \u001b[38;5;28mself\u001b[39m\u001b[38;5;241m.\u001b[39mndim \u001b[38;5;241m==\u001b[39m \u001b[38;5;241m2\u001b[39m\n\u001b[1;32m--> 404\u001b[0m     result \u001b[38;5;241m=\u001b[39m func(\u001b[38;5;28mself\u001b[39m\u001b[38;5;241m.\u001b[39mvalues)\n\u001b[0;32m    406\u001b[0m     \u001b[38;5;28;01mif\u001b[39;00m \u001b[38;5;28mself\u001b[39m\u001b[38;5;241m.\u001b[39mvalues\u001b[38;5;241m.\u001b[39mndim \u001b[38;5;241m==\u001b[39m \u001b[38;5;241m1\u001b[39m:\n\u001b[0;32m    407\u001b[0m         res_values \u001b[38;5;241m=\u001b[39m result\n",
      "File \u001b[1;32mc:\\Users\\basho\\anaconda3\\Lib\\site-packages\\pandas\\core\\frame.py:11481\u001b[0m, in \u001b[0;36mDataFrame._reduce.<locals>.blk_func\u001b[1;34m(values, axis)\u001b[0m\n\u001b[0;32m  11479\u001b[0m         \u001b[38;5;28;01mreturn\u001b[39;00m np\u001b[38;5;241m.\u001b[39marray([result])\n\u001b[0;32m  11480\u001b[0m \u001b[38;5;28;01melse\u001b[39;00m:\n\u001b[1;32m> 11481\u001b[0m     \u001b[38;5;28;01mreturn\u001b[39;00m op(values, axis\u001b[38;5;241m=\u001b[39maxis, skipna\u001b[38;5;241m=\u001b[39mskipna, \u001b[38;5;241m*\u001b[39m\u001b[38;5;241m*\u001b[39mkwds)\n",
      "File \u001b[1;32mc:\\Users\\basho\\anaconda3\\Lib\\site-packages\\pandas\\core\\nanops.py:147\u001b[0m, in \u001b[0;36mbottleneck_switch.__call__.<locals>.f\u001b[1;34m(values, axis, skipna, **kwds)\u001b[0m\n\u001b[0;32m    145\u001b[0m         result \u001b[38;5;241m=\u001b[39m alt(values, axis\u001b[38;5;241m=\u001b[39maxis, skipna\u001b[38;5;241m=\u001b[39mskipna, \u001b[38;5;241m*\u001b[39m\u001b[38;5;241m*\u001b[39mkwds)\n\u001b[0;32m    146\u001b[0m \u001b[38;5;28;01melse\u001b[39;00m:\n\u001b[1;32m--> 147\u001b[0m     result \u001b[38;5;241m=\u001b[39m alt(values, axis\u001b[38;5;241m=\u001b[39maxis, skipna\u001b[38;5;241m=\u001b[39mskipna, \u001b[38;5;241m*\u001b[39m\u001b[38;5;241m*\u001b[39mkwds)\n\u001b[0;32m    149\u001b[0m \u001b[38;5;28;01mreturn\u001b[39;00m result\n",
      "File \u001b[1;32mc:\\Users\\basho\\anaconda3\\Lib\\site-packages\\pandas\\core\\nanops.py:404\u001b[0m, in \u001b[0;36m_datetimelike_compat.<locals>.new_func\u001b[1;34m(values, axis, skipna, mask, **kwargs)\u001b[0m\n\u001b[0;32m    401\u001b[0m \u001b[38;5;28;01mif\u001b[39;00m datetimelike \u001b[38;5;129;01mand\u001b[39;00m mask \u001b[38;5;129;01mis\u001b[39;00m \u001b[38;5;28;01mNone\u001b[39;00m:\n\u001b[0;32m    402\u001b[0m     mask \u001b[38;5;241m=\u001b[39m isna(values)\n\u001b[1;32m--> 404\u001b[0m result \u001b[38;5;241m=\u001b[39m func(values, axis\u001b[38;5;241m=\u001b[39maxis, skipna\u001b[38;5;241m=\u001b[39mskipna, mask\u001b[38;5;241m=\u001b[39mmask, \u001b[38;5;241m*\u001b[39m\u001b[38;5;241m*\u001b[39mkwargs)\n\u001b[0;32m    406\u001b[0m \u001b[38;5;28;01mif\u001b[39;00m datetimelike:\n\u001b[0;32m    407\u001b[0m     result \u001b[38;5;241m=\u001b[39m _wrap_results(result, orig_values\u001b[38;5;241m.\u001b[39mdtype, fill_value\u001b[38;5;241m=\u001b[39miNaT)\n",
      "File \u001b[1;32mc:\\Users\\basho\\anaconda3\\Lib\\site-packages\\pandas\\core\\nanops.py:720\u001b[0m, in \u001b[0;36mnanmean\u001b[1;34m(values, axis, skipna, mask)\u001b[0m\n\u001b[0;32m    718\u001b[0m count \u001b[38;5;241m=\u001b[39m _get_counts(values\u001b[38;5;241m.\u001b[39mshape, mask, axis, dtype\u001b[38;5;241m=\u001b[39mdtype_count)\n\u001b[0;32m    719\u001b[0m the_sum \u001b[38;5;241m=\u001b[39m values\u001b[38;5;241m.\u001b[39msum(axis, dtype\u001b[38;5;241m=\u001b[39mdtype_sum)\n\u001b[1;32m--> 720\u001b[0m the_sum \u001b[38;5;241m=\u001b[39m _ensure_numeric(the_sum)\n\u001b[0;32m    722\u001b[0m \u001b[38;5;28;01mif\u001b[39;00m axis \u001b[38;5;129;01mis\u001b[39;00m \u001b[38;5;129;01mnot\u001b[39;00m \u001b[38;5;28;01mNone\u001b[39;00m \u001b[38;5;129;01mand\u001b[39;00m \u001b[38;5;28mgetattr\u001b[39m(the_sum, \u001b[38;5;124m\"\u001b[39m\u001b[38;5;124mndim\u001b[39m\u001b[38;5;124m\"\u001b[39m, \u001b[38;5;28;01mFalse\u001b[39;00m):\n\u001b[0;32m    723\u001b[0m     count \u001b[38;5;241m=\u001b[39m cast(np\u001b[38;5;241m.\u001b[39mndarray, count)\n",
      "File \u001b[1;32mc:\\Users\\basho\\anaconda3\\Lib\\site-packages\\pandas\\core\\nanops.py:1686\u001b[0m, in \u001b[0;36m_ensure_numeric\u001b[1;34m(x)\u001b[0m\n\u001b[0;32m   1683\u001b[0m inferred \u001b[38;5;241m=\u001b[39m lib\u001b[38;5;241m.\u001b[39minfer_dtype(x)\n\u001b[0;32m   1684\u001b[0m \u001b[38;5;28;01mif\u001b[39;00m inferred \u001b[38;5;129;01min\u001b[39;00m [\u001b[38;5;124m\"\u001b[39m\u001b[38;5;124mstring\u001b[39m\u001b[38;5;124m\"\u001b[39m, \u001b[38;5;124m\"\u001b[39m\u001b[38;5;124mmixed\u001b[39m\u001b[38;5;124m\"\u001b[39m]:\n\u001b[0;32m   1685\u001b[0m     \u001b[38;5;66;03m# GH#44008, GH#36703 avoid casting e.g. strings to numeric\u001b[39;00m\n\u001b[1;32m-> 1686\u001b[0m     \u001b[38;5;28;01mraise\u001b[39;00m \u001b[38;5;167;01mTypeError\u001b[39;00m(\u001b[38;5;124mf\u001b[39m\u001b[38;5;124m\"\u001b[39m\u001b[38;5;124mCould not convert \u001b[39m\u001b[38;5;132;01m{\u001b[39;00mx\u001b[38;5;132;01m}\u001b[39;00m\u001b[38;5;124m to numeric\u001b[39m\u001b[38;5;124m\"\u001b[39m)\n\u001b[0;32m   1687\u001b[0m \u001b[38;5;28;01mtry\u001b[39;00m:\n\u001b[0;32m   1688\u001b[0m     x \u001b[38;5;241m=\u001b[39m x\u001b[38;5;241m.\u001b[39mastype(np\u001b[38;5;241m.\u001b[39mcomplex128)\n",
      "\u001b[1;31mTypeError\u001b[0m: Could not convert ['alfa-romeroalfa-romeroalfa-romeroaudiaudiaudiaudibmwbmwbmwbmwbmwbmwchevroletchevroletchevroletdodgedodgehondahondahondaisuzujaguarjaguarjaguarmazdamazdamazdamazdamazdamercedes-benzmercedes-benzmercedes-benzmercedes-benzmitsubishimitsubishimitsubishimitsubishinissannissannissannissannissanporscheporschetoyotatoyotatoyotatoyotatoyotatoyotatoyotavolkswagenvolkswagenvolkswagenvolkswagenvolvovolvo'\n 'convertibleconvertiblehatchbacksedansedansedanwagonsedansedansedansedansedansedanhatchbackhatchbacksedanhatchbackhatchbackwagonsedansedansedansedansedansedanhatchbackhatchbackhatchbackhatchbacksedansedanwagonsedanhardtophatchbackhatchbacksedansedansedansedansedanwagonsedanhardtopconvertiblehatchbackhatchbackhatchbackwagonwagonwagonwagonsedansedansedansedansedanwagon'\n 'dohcdohcohcvohcohcohcohcohcohcohcohcohcohclohcohcohcohcohcohcohcohcdohcdohcohcvohcohcohcrotorohcohcohcohcvohcvohcohcohcohcohcohcohcohcohcvohcfohcfohcohcohcohcohcohcdohcohcohcohcohcohcohc'\n 'fourfoursixfourfivefivefivefourfoursixsixsixsixthreefourfourfourfourfourfourfourfoursixsixtwelvefourfourfourtwofourfivefiveeighteightfourfourfourfourfourfourfourfoursixsixsixfourfourfourfourfourfoursixfourfourfourfourfourfour'] to numeric"
     ]
    }
   ],
   "source": [
    "import pandas as pd\n",
    "\n",
    "# Load the data set\n",
    "df = pd.read_csv('cara_data.csv')\n",
    "\n",
    "# Inspect the first few rows and the data types\n",
    "print(df.head())\n",
    "print(df.dtypes)\n",
    "\n",
    "# Convert relevant columns to numeric\n",
    "df['horsepower'] = pd.to_numeric(df['horsepower'], errors='coerce')\n",
    "df['price'] = pd.to_numeric(df['price'], errors='coerce')\n",
    "\n",
    "# Drop rows with missing values\n",
    "df.dropna(inplace=True)\n",
    "\n",
    "# Calculate the mean of each numeric column\n",
    "mean_valueas = df.mean()\n",
    "\n",
    "# Print the mean values\n",
    "print(mean_valueas)\n"
   ]
  },
  {
   "cell_type": "markdown",
   "metadata": {},
   "source": [
    "### Select the rows where the column \"company\" is equal to 'honda'. "
   ]
  },
  {
   "cell_type": "markdown",
   "metadata": {},
   "source": [
    "# Answer"
   ]
  },
  {
   "cell_type": "code",
   "execution_count": 39,
   "metadata": {},
   "outputs": [
    {
     "name": "stdout",
     "output_type": "stream",
     "text": [
      "    index company body-style  wheel-base  length engine-type num-of-cylinders  \\\n",
      "18     27   honda      wagon        96.5   157.1         ohc             four   \n",
      "19     28   honda      sedan        96.5   175.4         ohc             four   \n",
      "20     29   honda      sedan        96.5   169.1         ohc             four   \n",
      "\n",
      "    horsepower  average-mileage    price  \n",
      "18          76               30   7295.0  \n",
      "19         101               24  12945.0  \n",
      "20         100               25  10345.0  \n"
     ]
    }
   ],
   "source": [
    "# Select the rows where the column \"company\" is equal to 'honda'\n",
    "honda_rows = df[df['company'] == 'honda']\n",
    "\n",
    "# Print the selected rows\n",
    "print(honda_rows)\n"
   ]
  },
  {
   "cell_type": "markdown",
   "metadata": {},
   "source": [
    "### Sort the data set by price in descending order. This should *not* be an inplace operation. "
   ]
  },
  {
   "cell_type": "markdown",
   "metadata": {},
   "source": [
    "# Answer"
   ]
  },
  {
   "cell_type": "code",
   "execution_count": 43,
   "metadata": {},
   "outputs": [
    {
     "name": "stdout",
     "output_type": "stream",
     "text": [
      "Sorted DataFrame by price (descending order):\n",
      "    index        company   body-style  wheel-base  length engine-type  \\\n",
      "35     47  mercedes-benz      hardtop       112.0   199.2        ohcv   \n",
      "11     14            bmw        sedan       103.5   193.8         ohc   \n",
      "34     46  mercedes-benz        sedan       120.9   208.1        ohcv   \n",
      "46     62        porsche  convertible        89.5   168.9        ohcf   \n",
      "12     15            bmw        sedan       110.0   197.0         ohc   \n",
      "26     35         jaguar        sedan       102.0   191.7        ohcv   \n",
      "25     34         jaguar        sedan       113.0   199.6        dohc   \n",
      "45     61        porsche      hardtop        89.5   168.9        ohcf   \n",
      "24     33         jaguar        sedan       113.0   199.6        dohc   \n",
      "10     13            bmw        sedan       103.5   189.0         ohc   \n",
      "33     45  mercedes-benz        wagon       110.0   190.9         ohc   \n",
      "32     44  mercedes-benz        sedan       110.0   190.9         ohc   \n",
      "9      11            bmw        sedan       101.2   176.8         ohc   \n",
      "6       6           audi        wagon       105.8   192.7         ohc   \n",
      "31     43          mazda        sedan       104.9   175.0         ohc   \n",
      "4       4           audi        sedan        99.4   176.6         ohc   \n",
      "8      10            bmw        sedan       101.2   176.8         ohc   \n",
      "2       2    alfa-romero    hatchback        94.5   171.2        ohcv   \n",
      "1       1    alfa-romero  convertible        88.6   168.8        dohc   \n",
      "7       9            bmw        sedan       101.2   176.8         ohc   \n",
      "54     79         toyota        wagon       104.5   187.8        dohc   \n",
      "5       5           audi        sedan        99.8   177.3         ohc   \n",
      "3       3           audi        sedan        99.8   176.6         ohc   \n",
      "44     57         nissan        sedan       100.4   184.6        ohcv   \n",
      "0       0    alfa-romero  convertible        88.6   168.8        dohc   \n",
      "60     88          volvo        wagon       104.3   188.8         ohc   \n",
      "19     28          honda        sedan        96.5   175.4         ohc   \n",
      "59     87          volvo        sedan       104.3   188.8         ohc   \n",
      "30     39          mazda    hatchback        95.3   169.0       rotor   \n",
      "20     29          honda        sedan        96.5   169.1         ohc   \n",
      "58     86     volkswagen        sedan        97.3   171.7         ohc   \n",
      "53     71         toyota        wagon        95.7   169.7         ohc   \n",
      "39     52     mitsubishi        sedan        96.3   172.4         ohc   \n",
      "57     82     volkswagen        sedan        97.3   171.7         ohc   \n",
      "56     81     volkswagen        sedan        97.3   171.7         ohc   \n",
      "52     70         toyota        wagon        95.7   169.7         ohc   \n",
      "55     80     volkswagen        sedan        97.3   171.7         ohc   \n",
      "43     56         nissan        wagon        94.5   170.2         ohc   \n",
      "18     27          honda        wagon        96.5   157.1         ohc   \n",
      "40     53         nissan        sedan        94.5   165.3         ohc   \n",
      "38     51     mitsubishi        sedan        96.3   172.4         ohc   \n",
      "51     69         toyota        wagon        95.7   169.7         ohc   \n",
      "42     55         nissan        sedan        94.5   165.3         ohc   \n",
      "29     38          mazda    hatchback        93.1   159.1         ohc   \n",
      "21     30          isuzu        sedan        94.3   170.7         ohc   \n",
      "41     54         nissan        sedan        94.5   165.3         ohc   \n",
      "15     18      chevrolet        sedan        94.5   158.8         ohc   \n",
      "50     68         toyota    hatchback        95.7   158.7         ohc   \n",
      "16     19          dodge    hatchback        93.7   157.3         ohc   \n",
      "49     67         toyota    hatchback        95.7   158.7         ohc   \n",
      "14     17      chevrolet    hatchback        94.5   155.9         ohc   \n",
      "17     20          dodge    hatchback        93.7   157.3         ohc   \n",
      "37     50     mitsubishi    hatchback        93.7   157.3         ohc   \n",
      "28     37          mazda    hatchback        93.1   159.1         ohc   \n",
      "36     49     mitsubishi    hatchback        93.7   157.3         ohc   \n",
      "48     66         toyota    hatchback        95.7   158.7         ohc   \n",
      "27     36          mazda    hatchback        93.1   159.1         ohc   \n",
      "13     16      chevrolet    hatchback        88.4   141.1           l   \n",
      "\n",
      "   num-of-cylinders  horsepower  average-mileage    price  \n",
      "35            eight         184               14  45400.0  \n",
      "11              six         182               16  41315.0  \n",
      "34            eight         184               14  40960.0  \n",
      "46              six         207               17  37028.0  \n",
      "12              six         182               15  36880.0  \n",
      "26           twelve         262               13  36000.0  \n",
      "25              six         176               15  35550.0  \n",
      "45              six         207               17  34028.0  \n",
      "24              six         176               15  32250.0  \n",
      "10              six         182               16  30760.0  \n",
      "33             five         123               22  28248.0  \n",
      "32             five         123               22  25552.0  \n",
      "9               six         121               21  20970.0  \n",
      "6              five         110               19  18920.0  \n",
      "31             four          72               31  18344.0  \n",
      "4              five         115               18  17450.0  \n",
      "8              four         101               23  16925.0  \n",
      "2               six         154               19  16500.0  \n",
      "1              four         111               21  16500.0  \n",
      "7              four         101               23  16430.0  \n",
      "54              six         156               19  15750.0  \n",
      "5              five         110               19  15250.0  \n",
      "3              four         102               24  13950.0  \n",
      "44              six         152               19  13499.0  \n",
      "0              four         111               21  13495.0  \n",
      "60             four         114               23  13415.0  \n",
      "19             four         101               24  12945.0  \n",
      "59             four         114               23  12940.0  \n",
      "30              two         101               17  11845.0  \n",
      "20             four         100               25  10345.0  \n",
      "58             four         100               26   9995.0  \n",
      "53             four          62               27   8778.0  \n",
      "39             four          88               25   8189.0  \n",
      "57             four          52               37   7995.0  \n",
      "56             four          85               27   7975.0  \n",
      "52             four          62               27   7898.0  \n",
      "55             four          52               37   7775.0  \n",
      "43             four          69               31   7349.0  \n",
      "18             four          76               30   7295.0  \n",
      "40             four          55               45   7099.0  \n",
      "38             four          88               25   6989.0  \n",
      "51             four          62               31   6918.0  \n",
      "42             four          69               31   6849.0  \n",
      "29             four          68               31   6795.0  \n",
      "21             four          78               24   6785.0  \n",
      "41             four          69               31   6649.0  \n",
      "15             four          70               38   6575.0  \n",
      "50             four          62               31   6488.0  \n",
      "16             four          68               31   6377.0  \n",
      "49             four          62               31   6338.0  \n",
      "14             four          70               38   6295.0  \n",
      "17             four          68               31   6229.0  \n",
      "37             four          68               31   6189.0  \n",
      "28             four          68               31   6095.0  \n",
      "36             four          68               37   5389.0  \n",
      "48             four          62               35   5348.0  \n",
      "27             four          68               30   5195.0  \n",
      "13            three          48               47   5151.0  \n"
     ]
    }
   ],
   "source": [
    "import pandas as pd\n",
    "\n",
    "# Load the data set\n",
    "df = pd.read_csv('cara_data.csv')\n",
    "\n",
    "# Drop rows with missing values\n",
    "df.dropna(inplace=True)\n",
    "\n",
    "# Sort the DataFrame by price in descending order\n",
    "sorted_df = df.sort_values(by='price', ascending=False)\n",
    "\n",
    "# Print the sorted DataFrame\n",
    "print(\"Sorted DataFrame by price (descending order):\")\n",
    "print(sorted_df)\n"
   ]
  },
  {
   "cell_type": "markdown",
   "metadata": {},
   "source": [
    "### Select the rows where the column \"company\" is equal to any of the values (audi, bmw, porsche)."
   ]
  },
  {
   "cell_type": "markdown",
   "metadata": {},
   "source": [
    "# Answer"
   ]
  },
  {
   "cell_type": "code",
   "execution_count": 44,
   "metadata": {},
   "outputs": [
    {
     "name": "stdout",
     "output_type": "stream",
     "text": [
      "Rows where company is 'audi', 'bmw', or 'porsche':\n",
      "    index  company   body-style  wheel-base  length engine-type  \\\n",
      "3       3     audi        sedan        99.8   176.6         ohc   \n",
      "4       4     audi        sedan        99.4   176.6         ohc   \n",
      "5       5     audi        sedan        99.8   177.3         ohc   \n",
      "6       6     audi        wagon       105.8   192.7         ohc   \n",
      "7       9      bmw        sedan       101.2   176.8         ohc   \n",
      "8      10      bmw        sedan       101.2   176.8         ohc   \n",
      "9      11      bmw        sedan       101.2   176.8         ohc   \n",
      "10     13      bmw        sedan       103.5   189.0         ohc   \n",
      "11     14      bmw        sedan       103.5   193.8         ohc   \n",
      "12     15      bmw        sedan       110.0   197.0         ohc   \n",
      "45     61  porsche      hardtop        89.5   168.9        ohcf   \n",
      "46     62  porsche  convertible        89.5   168.9        ohcf   \n",
      "\n",
      "   num-of-cylinders  horsepower  average-mileage    price  \n",
      "3              four         102               24  13950.0  \n",
      "4              five         115               18  17450.0  \n",
      "5              five         110               19  15250.0  \n",
      "6              five         110               19  18920.0  \n",
      "7              four         101               23  16430.0  \n",
      "8              four         101               23  16925.0  \n",
      "9               six         121               21  20970.0  \n",
      "10              six         182               16  30760.0  \n",
      "11              six         182               16  41315.0  \n",
      "12              six         182               15  36880.0  \n",
      "45              six         207               17  34028.0  \n",
      "46              six         207               17  37028.0  \n"
     ]
    }
   ],
   "source": [
    "import pandas as pd\n",
    "\n",
    "# Load the data set\n",
    "df = pd.read_csv('cara_data.csv')\n",
    "\n",
    "# Drop rows with missing values\n",
    "df.dropna(inplace=True)\n",
    "\n",
    "# Select rows where the company is 'audi', 'bmw', or 'porsche'\n",
    "selected_companies = df[df['company'].isin(['audi', 'bmw', 'porsche'])]\n",
    "\n",
    "# Print the selected rows\n",
    "print(\"Rows where company is 'audi', 'bmw', or 'porsche':\")\n",
    "print(selected_companies)\n"
   ]
  },
  {
   "cell_type": "markdown",
   "metadata": {},
   "source": [
    "### Find the number of cars (rows) for each company. "
   ]
  },
  {
   "cell_type": "markdown",
   "metadata": {},
   "source": [
    "# Answer"
   ]
  },
  {
   "cell_type": "code",
   "execution_count": 45,
   "metadata": {},
   "outputs": [
    {
     "name": "stdout",
     "output_type": "stream",
     "text": [
      "Number of cars for each company:\n",
      "company\n",
      "alfa-romero      3\n",
      "audi             4\n",
      "bmw              6\n",
      "chevrolet        3\n",
      "dodge            2\n",
      "honda            3\n",
      "isuzu            1\n",
      "jaguar           3\n",
      "mazda            5\n",
      "mercedes-benz    4\n",
      "mitsubishi       4\n",
      "nissan           5\n",
      "porsche          2\n",
      "toyota           7\n",
      "volkswagen       4\n",
      "volvo            2\n",
      "dtype: int64\n"
     ]
    }
   ],
   "source": [
    "import pandas as pd\n",
    "\n",
    "# Load the data set\n",
    "df = pd.read_csv('cara_data.csv')\n",
    "\n",
    "# Drop rows with missing values\n",
    "df.dropna(inplace=True)\n",
    "\n",
    "# Find the number of cars for each company\n",
    "car_counts = df.groupby('company').size()\n",
    "\n",
    "# Print the car counts for each company\n",
    "print(\"Number of cars for each company:\")\n",
    "print(car_counts)\n"
   ]
  },
  {
   "cell_type": "markdown",
   "metadata": {},
   "source": [
    "### Find the maximum price for each company. "
   ]
  },
  {
   "cell_type": "markdown",
   "metadata": {},
   "source": [
    "# Answer"
   ]
  },
  {
   "cell_type": "code",
   "execution_count": 46,
   "metadata": {},
   "outputs": [
    {
     "name": "stdout",
     "output_type": "stream",
     "text": [
      "Maximum price for each company:\n",
      "company\n",
      "alfa-romero      16500.0\n",
      "audi             18920.0\n",
      "bmw              41315.0\n",
      "chevrolet         6575.0\n",
      "dodge             6377.0\n",
      "honda            12945.0\n",
      "isuzu             6785.0\n",
      "jaguar           36000.0\n",
      "mazda            18344.0\n",
      "mercedes-benz    45400.0\n",
      "mitsubishi        8189.0\n",
      "nissan           13499.0\n",
      "porsche          37028.0\n",
      "toyota           15750.0\n",
      "volkswagen        9995.0\n",
      "volvo            13415.0\n",
      "Name: price, dtype: float64\n"
     ]
    }
   ],
   "source": [
    "import pandas as pd\n",
    "\n",
    "# Load the data set\n",
    "df = pd.read_csv('cara_data.csv')\n",
    "\n",
    "# Drop rows with missing values\n",
    "df.dropna(inplace=True)\n",
    "\n",
    "# Find the maximum price for each company\n",
    "max_prices = df.groupby('company')['price'].max()\n",
    "\n",
    "# Print the maximum prices for each company\n",
    "print(\"Maximum price for each company:\")\n",
    "print(max_prices)\n"
   ]
  }
 ],
 "metadata": {
  "kernelspec": {
   "display_name": "base",
   "language": "python",
   "name": "python3"
  },
  "language_info": {
   "codemirror_mode": {
    "name": "ipython",
    "version": 3
   },
   "file_extension": ".py",
   "mimetype": "text/x-python",
   "name": "python",
   "nbconvert_exporter": "python",
   "pygments_lexer": "ipython3",
   "version": "3.12.4"
  }
 },
 "nbformat": 4,
 "nbformat_minor": 2
}
